{
 "cells": [
  {
   "cell_type": "markdown",
   "id": "89b8201e",
   "metadata": {},
   "source": [
    "# 1.Setup"
   ]
  },
  {
   "cell_type": "markdown",
   "id": "e9927750",
   "metadata": {},
   "source": [
    "## 1.1 Install Dependencies"
   ]
  },
  {
   "cell_type": "code",
   "execution_count": 3,
   "id": "ba983088",
   "metadata": {},
   "outputs": [
    {
     "name": "stdout",
     "output_type": "stream",
     "text": [
      "Requirement already satisfied: tensorflow==2.12.0 in c:\\users\\msi\\appdata\\roaming\\python\\python39\\site-packages (2.12.0)\n"
     ]
    },
    {
     "name": "stderr",
     "output_type": "stream",
     "text": [
      "WARNING: Ignoring invalid distribution -ensorflow-intel (c:\\users\\msi\\appdata\\roaming\\python\\python39\\site-packages)\n",
      "WARNING: Ignoring invalid distribution -rotobuf (f:\\newanaconda\\lib\\site-packages)\n",
      "WARNING: Ignoring invalid distribution -ensorflow-intel (c:\\users\\msi\\appdata\\roaming\\python\\python39\\site-packages)\n",
      "WARNING: Ignoring invalid distribution -rotobuf (f:\\newanaconda\\lib\\site-packages)\n",
      "ERROR: Could not find a version that satisfies the requirement tensorflow_gpu==2.4.1 (from versions: 2.5.0, 2.5.1, 2.5.2, 2.5.3, 2.6.0, 2.6.1, 2.6.2, 2.6.3, 2.6.4, 2.6.5, 2.7.0rc0, 2.7.0rc1, 2.7.0, 2.7.1, 2.7.2, 2.7.3, 2.7.4, 2.8.0rc0, 2.8.0rc1, 2.8.0, 2.8.1, 2.8.2, 2.8.3, 2.8.4, 2.9.0rc0, 2.9.0rc1, 2.9.0rc2, 2.9.0, 2.9.1, 2.9.2, 2.9.3, 2.10.0rc0, 2.10.0rc1, 2.10.0rc2, 2.10.0rc3, 2.10.0, 2.10.1, 2.12.0)\n",
      "ERROR: No matching distribution found for tensorflow_gpu==2.4.1\n",
      "WARNING: Ignoring invalid distribution -ensorflow-intel (c:\\users\\msi\\appdata\\roaming\\python\\python39\\site-packages)\n",
      "WARNING: Ignoring invalid distribution -rotobuf (f:\\newanaconda\\lib\\site-packages)\n",
      "WARNING: Ignoring invalid distribution -ensorflow-intel (c:\\users\\msi\\appdata\\roaming\\python\\python39\\site-packages)\n",
      "WARNING: Ignoring invalid distribution -rotobuf (f:\\newanaconda\\lib\\site-packages)\n",
      "WARNING: Ignoring invalid distribution -ensorflow-intel (c:\\users\\msi\\appdata\\roaming\\python\\python39\\site-packages)\n",
      "WARNING: Ignoring invalid distribution -rotobuf (f:\\newanaconda\\lib\\site-packages)\n"
     ]
    }
   ],
   "source": [
    "!pip install tensorflow==2.12.0 tensorflow_gpu==2.4.1 opencv-python matplotlib"
   ]
  },
  {
   "cell_type": "markdown",
   "id": "52f8f496",
   "metadata": {},
   "source": [
    "## 1.2 Import Dependencies"
   ]
  },
  {
   "cell_type": "code",
   "execution_count": 1,
   "id": "30be7aca",
   "metadata": {},
   "outputs": [],
   "source": [
    "# import standard dependecies\n",
    "import cv2\n",
    "import os\n",
    "import random\n",
    "import numpy as np\n",
    "from matplotlib import pyplot as plt\n",
    "\n",
    "\n"
   ]
  },
  {
   "cell_type": "code",
   "execution_count": 2,
   "id": "15942b0b",
   "metadata": {},
   "outputs": [
    {
     "name": "stderr",
     "output_type": "stream",
     "text": [
      "C:\\Users\\msi\\anaconda3\\envs\\ev_2\\lib\\site-packages\\scipy\\__init__.py:146: UserWarning: A NumPy version >=1.16.5 and <1.23.0 is required for this version of SciPy (detected version 1.23.5\n",
      "  warnings.warn(f\"A NumPy version >={np_minversion} and <{np_maxversion}\"\n"
     ]
    }
   ],
   "source": [
    "#import tenserflow dependencies\n",
    "from tensorflow.keras.models import Model #Import Model class\n",
    "from tensorflow.keras.layers import Layer, Conv2D,Dense,MaxPooling2D, Input, Flatten\n",
    "import tensorflow as tf"
   ]
  },
  {
   "cell_type": "markdown",
   "id": "9e75fa57",
   "metadata": {},
   "source": [
    "## 1.3 Set GPU Growth"
   ]
  },
  {
   "cell_type": "code",
   "execution_count": 3,
   "id": "2f07d4ff",
   "metadata": {},
   "outputs": [],
   "source": [
    "# Avoid Out of Memoy Error by setting Memory consumption Growth\n",
    "#access all the gpus in the machine\n",
    "gpus=tf.config.experimental.list_physical_devices('GPU')\n",
    "for gpu in gpus:\n",
    "    #setting memory growth\n",
    "    tf.config.experimental.set_memory_growth(gpu, True)"
   ]
  },
  {
   "cell_type": "markdown",
   "id": "86d34dba",
   "metadata": {},
   "source": [
    "## 1.4 Create Folder Structures"
   ]
  },
  {
   "cell_type": "code",
   "execution_count": 4,
   "id": "30386ab4",
   "metadata": {},
   "outputs": [],
   "source": [
    "# setUp Paths (deffining)\n",
    "POS_PATH=os.path.join('data','positive')#join diff directory \n",
    "NEG_PATH=os.path.join('data','negative')\n",
    "ANC_PATH=os.path.join('data','anchor')\n"
   ]
  },
  {
   "cell_type": "code",
   "execution_count": 9,
   "id": "4c1a786f",
   "metadata": {},
   "outputs": [
    {
     "ename": "FileExistsError",
     "evalue": "[WinError 183] Cannot create a file when that file already exists: 'data\\\\negative'",
     "output_type": "error",
     "traceback": [
      "\u001b[1;31m---------------------------------------------------------------------------\u001b[0m",
      "\u001b[1;31mFileExistsError\u001b[0m                           Traceback (most recent call last)",
      "Cell \u001b[1;32mIn[9], line 3\u001b[0m\n\u001b[0;32m      1\u001b[0m \u001b[38;5;66;03m#create the directories\u001b[39;00m\n\u001b[0;32m      2\u001b[0m \u001b[38;5;66;03m#os.makedirs(POS_PATH)\u001b[39;00m\n\u001b[1;32m----> 3\u001b[0m \u001b[43mos\u001b[49m\u001b[38;5;241;43m.\u001b[39;49m\u001b[43mmakedirs\u001b[49m\u001b[43m(\u001b[49m\u001b[43mNEG_PATH\u001b[49m\u001b[43m)\u001b[49m\n\u001b[0;32m      4\u001b[0m os\u001b[38;5;241m.\u001b[39mmakedirs(ANC_PATH)\n",
      "File \u001b[1;32m~\\anaconda3\\envs\\ev_2\\lib\\os.py:225\u001b[0m, in \u001b[0;36mmakedirs\u001b[1;34m(name, mode, exist_ok)\u001b[0m\n\u001b[0;32m    223\u001b[0m         \u001b[38;5;28;01mreturn\u001b[39;00m\n\u001b[0;32m    224\u001b[0m \u001b[38;5;28;01mtry\u001b[39;00m:\n\u001b[1;32m--> 225\u001b[0m     \u001b[43mmkdir\u001b[49m\u001b[43m(\u001b[49m\u001b[43mname\u001b[49m\u001b[43m,\u001b[49m\u001b[43m \u001b[49m\u001b[43mmode\u001b[49m\u001b[43m)\u001b[49m\n\u001b[0;32m    226\u001b[0m \u001b[38;5;28;01mexcept\u001b[39;00m \u001b[38;5;167;01mOSError\u001b[39;00m:\n\u001b[0;32m    227\u001b[0m     \u001b[38;5;66;03m# Cannot rely on checking for EEXIST, since the operating system\u001b[39;00m\n\u001b[0;32m    228\u001b[0m     \u001b[38;5;66;03m# could give priority to other errors like EACCES or EROFS\u001b[39;00m\n\u001b[0;32m    229\u001b[0m     \u001b[38;5;28;01mif\u001b[39;00m \u001b[38;5;129;01mnot\u001b[39;00m exist_ok \u001b[38;5;129;01mor\u001b[39;00m \u001b[38;5;129;01mnot\u001b[39;00m path\u001b[38;5;241m.\u001b[39misdir(name):\n",
      "\u001b[1;31mFileExistsError\u001b[0m: [WinError 183] Cannot create a file when that file already exists: 'data\\\\negative'"
     ]
    }
   ],
   "source": [
    "#create the directories\n",
    "os.makedirs(POS_PATH)\n",
    "os.makedirs(NEG_PATH)\n",
    "os.makedirs(ANC_PATH)"
   ]
  },
  {
   "cell_type": "markdown",
   "id": "9e9fa44e",
   "metadata": {},
   "source": [
    "# 2 Collect Positives and Anchors"
   ]
  },
  {
   "cell_type": "markdown",
   "id": "37e11b56",
   "metadata": {},
   "source": [
    "## 2.1 Unpack Labelled Faces in the wild Dataset(Negative images)"
   ]
  },
  {
   "cell_type": "code",
   "execution_count": null,
   "id": "a48724aa",
   "metadata": {},
   "outputs": [],
   "source": [
    "#https://vis-www.cs.umass.edu/lfw/(negative images)"
   ]
  },
  {
   "cell_type": "code",
   "execution_count": 24,
   "id": "c7afc644",
   "metadata": {},
   "outputs": [],
   "source": [
    "# Uncompress Tar GZ lebelled Faces in the wild DataSet\n",
    "!tar -xf lfw.gz"
   ]
  },
  {
   "cell_type": "code",
   "execution_count": 36,
   "id": "644673d9",
   "metadata": {},
   "outputs": [],
   "source": [
    "#Move the lfw dataset to negative dataset folder\n",
    "for directory in os.listdir('lfw'):\n",
    "    for file in os.listdir(os.path.join('lfw',directory)):\n",
    "        EX_path=os.path.join('lfw',directory,file)#existing path\n",
    "        NEW_path=os.path.join(NEG_PATH,file)\n",
    "        os.replace(EX_path,NEW_path)"
   ]
  },
  {
   "cell_type": "markdown",
   "id": "aeaca878",
   "metadata": {},
   "source": [
    "## 2.2 Collect Positive and Anchor Images"
   ]
  },
  {
   "cell_type": "code",
   "execution_count": 5,
   "id": "f79a6990",
   "metadata": {},
   "outputs": [],
   "source": [
    "# import uuid library to generate unique id for images\n",
    "import uuid"
   ]
  },
  {
   "cell_type": "code",
   "execution_count": 56,
   "id": "dd745655",
   "metadata": {},
   "outputs": [],
   "source": [
    "#Establish a connection to the webcam\n",
    "cap= cv2.VideoCapture(0)\n",
    "while cap.isOpened():\n",
    "    ret, frame=cap.read()\n",
    "    \n",
    "    # X axis will start at 120Pixels and end up at  120+250 =>to have a shape of 250*250 \n",
    "    frame=frame[120:120+250,200:200+250,:]\n",
    "    \n",
    "    \n",
    "    \n",
    "    #collect anchors\n",
    "    if cv2.waitKey(1) & 0XFF == ord('a'):\n",
    "        #create unique file path\n",
    "        imgname= os.path.join(ANC_PATH,'{}.jpg'.format(uuid.uuid1()))\n",
    "        #save the image in the file\n",
    "        cv2.imwrite(imgname,frame)\n",
    "    \n",
    "    \n",
    "\n",
    "    \n",
    "    #collect Positive Images\n",
    "    if cv2.waitKey(1) & 0XFF == ord('p'):\n",
    "        imgname=os.path.join(POS_PATH,'{}.jpg'.format(uuid.uuid1()))\n",
    "        #save postive images to file\n",
    "        cv2.imwrite(imgname,frame)\n",
    "        \n",
    "\n",
    "    \n",
    "    \n",
    "    #show the image back to screen\n",
    "    cv2.imshow('Image Collection',frame)\n",
    "    #breaking when press 'q'\n",
    "    if cv2.waitKey(1) & 0XFF == ord('q'):\n",
    "        break\n",
    "        \n",
    "#Release and close the webcam\n",
    "cap.release()\n",
    "cv2.destroyAllWindows()"
   ]
  },
  {
   "cell_type": "markdown",
   "id": "7e385c77",
   "metadata": {},
   "source": [
    "## 2.x NEW Data Augmentation to perform the model"
   ]
  },
  {
   "cell_type": "code",
   "execution_count": 58,
   "id": "7011d513",
   "metadata": {},
   "outputs": [],
   "source": [
    "def data_aug(img):\n",
    "    data=[]\n",
    "#we are going to have 10 additional images for every originally single image\n",
    "    for i in range(9):\n",
    "         \n",
    "        #img=tf.image.stateless_random_brightness(img, max_delta=0.02, seed=(1.2))\n",
    "        img=tf.image.stateless_random_contrast(img,lower=0.6,upper=1,seed=(1,3))\n",
    "        img=tf.image.stateless_random_flip_left_right(img,seed=(np.random.randint(100),np.random.randint(100)))\n",
    "        img=tf.image.stateless_random_jpeg_quality(img,min_jpeg_quality=90,max_jpeg_quality=100,seed=(np.random.randint(100),np.random.randint(100)))\n",
    "        img=tf.image.stateless_random_saturation(img,lower=0.9,upper=1,seed=(np.random.randint(100),np.random.randint(100)))\n",
    "        \n",
    "        data.append(img)\n",
    "    return data"
   ]
  },
  {
   "cell_type": "markdown",
   "id": "a9a0b32e",
   "metadata": {},
   "source": [
    "### tester data augmentation pour un exemple d'image"
   ]
  },
  {
   "cell_type": "code",
   "execution_count": 54,
   "id": "b85b1a6b",
   "metadata": {},
   "outputs": [],
   "source": [
    "#tester data augmentation pour un exemple d'image\n",
    "import os\n",
    "img_path=os.path.join(ANC_PATH,\"929a82a3-b1a5-11ee-8bce-d8f8839e51ff.jpg\")\n",
    "img=cv2.imread(img_path)\n",
    "augmented_img=data_aug(img)\n",
    "\n",
    "for image in augmented_img:\n",
    "    cv2.imwrite(os.path.join(ANC_PATH,'{}.jpg'.format(uuid.uuid1())),image.numpy())"
   ]
  },
  {
   "cell_type": "markdown",
   "id": "156298c3",
   "metadata": {},
   "source": [
    "### tester data augmentation pour all ANCHOR images\n"
   ]
  },
  {
   "cell_type": "code",
   "execution_count": 56,
   "id": "51beeee5",
   "metadata": {},
   "outputs": [],
   "source": [
    "for file_image in os.listdir(os.path.join(ANC_PATH)):\n",
    "    img_path=os.path.join(ANC_PATH,file_image)\n",
    "    img=cv2.imread(img_path)\n",
    "    augmented_img=data_aug(img)\n",
    "\n",
    "    for image in augmented_img:\n",
    "        cv2.imwrite(os.path.join(ANC_PATH,'{}.jpg'.format(uuid.uuid1())),image.numpy())"
   ]
  },
  {
   "cell_type": "markdown",
   "id": "d61ca813",
   "metadata": {},
   "source": [
    "### tester data augmentation pour all POSITIVE images\n"
   ]
  },
  {
   "cell_type": "code",
   "execution_count": 59,
   "id": "75fd692c",
   "metadata": {},
   "outputs": [
    {
     "ename": "KeyboardInterrupt",
     "evalue": "",
     "output_type": "error",
     "traceback": [
      "\u001b[1;31m---------------------------------------------------------------------------\u001b[0m",
      "\u001b[1;31mKeyboardInterrupt\u001b[0m                         Traceback (most recent call last)",
      "Cell \u001b[1;32mIn[59], line 4\u001b[0m\n\u001b[0;32m      2\u001b[0m img_path\u001b[38;5;241m=\u001b[39mos\u001b[38;5;241m.\u001b[39mpath\u001b[38;5;241m.\u001b[39mjoin(POS_PATH,file_image)\n\u001b[0;32m      3\u001b[0m img\u001b[38;5;241m=\u001b[39mcv2\u001b[38;5;241m.\u001b[39mimread(img_path)\n\u001b[1;32m----> 4\u001b[0m augmented_img\u001b[38;5;241m=\u001b[39m\u001b[43mdata_aug\u001b[49m\u001b[43m(\u001b[49m\u001b[43mimg\u001b[49m\u001b[43m)\u001b[49m\n\u001b[0;32m      6\u001b[0m \u001b[38;5;28;01mfor\u001b[39;00m image \u001b[38;5;129;01min\u001b[39;00m augmented_img:\n\u001b[0;32m      7\u001b[0m     cv2\u001b[38;5;241m.\u001b[39mimwrite(os\u001b[38;5;241m.\u001b[39mpath\u001b[38;5;241m.\u001b[39mjoin(POS_PATH,\u001b[38;5;124m'\u001b[39m\u001b[38;5;132;01m{}\u001b[39;00m\u001b[38;5;124m.jpg\u001b[39m\u001b[38;5;124m'\u001b[39m\u001b[38;5;241m.\u001b[39mformat(uuid\u001b[38;5;241m.\u001b[39muuid1())),image\u001b[38;5;241m.\u001b[39mnumpy())\n",
      "Cell \u001b[1;32mIn[58], line 7\u001b[0m, in \u001b[0;36mdata_aug\u001b[1;34m(img)\u001b[0m\n\u001b[0;32m      3\u001b[0m \u001b[38;5;66;03m#we are going to have 10 additional images for every originally single image\u001b[39;00m\n\u001b[0;32m      4\u001b[0m     \u001b[38;5;28;01mfor\u001b[39;00m i \u001b[38;5;129;01min\u001b[39;00m \u001b[38;5;28mrange\u001b[39m(\u001b[38;5;241m9\u001b[39m):\n\u001b[0;32m      5\u001b[0m          \n\u001b[0;32m      6\u001b[0m         \u001b[38;5;66;03m#img=tf.image.stateless_random_brightness(img, max_delta=0.02, seed=(1.2))\u001b[39;00m\n\u001b[1;32m----> 7\u001b[0m         img\u001b[38;5;241m=\u001b[39m\u001b[43mtf\u001b[49m\u001b[38;5;241;43m.\u001b[39;49m\u001b[43mimage\u001b[49m\u001b[38;5;241;43m.\u001b[39;49m\u001b[43mstateless_random_contrast\u001b[49m\u001b[43m(\u001b[49m\u001b[43mimg\u001b[49m\u001b[43m,\u001b[49m\u001b[43mlower\u001b[49m\u001b[38;5;241;43m=\u001b[39;49m\u001b[38;5;241;43m0.6\u001b[39;49m\u001b[43m,\u001b[49m\u001b[43mupper\u001b[49m\u001b[38;5;241;43m=\u001b[39;49m\u001b[38;5;241;43m1\u001b[39;49m\u001b[43m,\u001b[49m\u001b[43mseed\u001b[49m\u001b[38;5;241;43m=\u001b[39;49m\u001b[43m(\u001b[49m\u001b[38;5;241;43m1\u001b[39;49m\u001b[43m,\u001b[49m\u001b[38;5;241;43m3\u001b[39;49m\u001b[43m)\u001b[49m\u001b[43m)\u001b[49m\n\u001b[0;32m      8\u001b[0m         img\u001b[38;5;241m=\u001b[39mtf\u001b[38;5;241m.\u001b[39mimage\u001b[38;5;241m.\u001b[39mstateless_random_flip_left_right(img,seed\u001b[38;5;241m=\u001b[39m(np\u001b[38;5;241m.\u001b[39mrandom\u001b[38;5;241m.\u001b[39mrandint(\u001b[38;5;241m100\u001b[39m),np\u001b[38;5;241m.\u001b[39mrandom\u001b[38;5;241m.\u001b[39mrandint(\u001b[38;5;241m100\u001b[39m)))\n\u001b[0;32m      9\u001b[0m         img\u001b[38;5;241m=\u001b[39mtf\u001b[38;5;241m.\u001b[39mimage\u001b[38;5;241m.\u001b[39mstateless_random_jpeg_quality(img,min_jpeg_quality\u001b[38;5;241m=\u001b[39m\u001b[38;5;241m90\u001b[39m,max_jpeg_quality\u001b[38;5;241m=\u001b[39m\u001b[38;5;241m100\u001b[39m,seed\u001b[38;5;241m=\u001b[39m(np\u001b[38;5;241m.\u001b[39mrandom\u001b[38;5;241m.\u001b[39mrandint(\u001b[38;5;241m100\u001b[39m),np\u001b[38;5;241m.\u001b[39mrandom\u001b[38;5;241m.\u001b[39mrandint(\u001b[38;5;241m100\u001b[39m)))\n",
      "File \u001b[1;32m~\\anaconda3\\envs\\ev_2\\lib\\site-packages\\tensorflow\\python\\util\\dispatch.py:206\u001b[0m, in \u001b[0;36madd_dispatch_support.<locals>.wrapper\u001b[1;34m(*args, **kwargs)\u001b[0m\n\u001b[0;32m    204\u001b[0m \u001b[38;5;250m\u001b[39m\u001b[38;5;124;03m\"\"\"Call target, and fall back on dispatchers if there is a TypeError.\"\"\"\u001b[39;00m\n\u001b[0;32m    205\u001b[0m \u001b[38;5;28;01mtry\u001b[39;00m:\n\u001b[1;32m--> 206\u001b[0m   \u001b[38;5;28;01mreturn\u001b[39;00m target(\u001b[38;5;241m*\u001b[39margs, \u001b[38;5;241m*\u001b[39m\u001b[38;5;241m*\u001b[39mkwargs)\n\u001b[0;32m    207\u001b[0m \u001b[38;5;28;01mexcept\u001b[39;00m (\u001b[38;5;167;01mTypeError\u001b[39;00m, \u001b[38;5;167;01mValueError\u001b[39;00m):\n\u001b[0;32m    208\u001b[0m   \u001b[38;5;66;03m# Note: convert_to_eager_tensor currently raises a ValueError, not a\u001b[39;00m\n\u001b[0;32m    209\u001b[0m   \u001b[38;5;66;03m# TypeError, when given unexpected types.  So we need to catch both.\u001b[39;00m\n\u001b[0;32m    210\u001b[0m   result \u001b[38;5;241m=\u001b[39m dispatch(wrapper, args, kwargs)\n",
      "File \u001b[1;32m~\\anaconda3\\envs\\ev_2\\lib\\site-packages\\tensorflow\\python\\ops\\image_ops_impl.py:2120\u001b[0m, in \u001b[0;36mstateless_random_contrast\u001b[1;34m(image, lower, upper, seed)\u001b[0m\n\u001b[0;32m   2117\u001b[0m \u001b[38;5;28;01mif\u001b[39;00m lower \u001b[38;5;241m<\u001b[39m \u001b[38;5;241m0\u001b[39m:\n\u001b[0;32m   2118\u001b[0m   \u001b[38;5;28;01mraise\u001b[39;00m \u001b[38;5;167;01mValueError\u001b[39;00m(\u001b[38;5;124m'\u001b[39m\u001b[38;5;124mlower must be non-negative.\u001b[39m\u001b[38;5;124m'\u001b[39m)\n\u001b[1;32m-> 2120\u001b[0m contrast_factor \u001b[38;5;241m=\u001b[39m \u001b[43mstateless_random_ops\u001b[49m\u001b[38;5;241;43m.\u001b[39;49m\u001b[43mstateless_random_uniform\u001b[49m\u001b[43m(\u001b[49m\n\u001b[0;32m   2121\u001b[0m \u001b[43m    \u001b[49m\u001b[43mshape\u001b[49m\u001b[38;5;241;43m=\u001b[39;49m\u001b[43m[\u001b[49m\u001b[43m]\u001b[49m\u001b[43m,\u001b[49m\u001b[43m \u001b[49m\u001b[43mminval\u001b[49m\u001b[38;5;241;43m=\u001b[39;49m\u001b[43mlower\u001b[49m\u001b[43m,\u001b[49m\u001b[43m \u001b[49m\u001b[43mmaxval\u001b[49m\u001b[38;5;241;43m=\u001b[39;49m\u001b[43mupper\u001b[49m\u001b[43m,\u001b[49m\u001b[43m \u001b[49m\u001b[43mseed\u001b[49m\u001b[38;5;241;43m=\u001b[39;49m\u001b[43mseed\u001b[49m\u001b[43m)\u001b[49m\n\u001b[0;32m   2122\u001b[0m \u001b[38;5;28;01mreturn\u001b[39;00m adjust_contrast(image, contrast_factor)\n",
      "File \u001b[1;32m~\\anaconda3\\envs\\ev_2\\lib\\site-packages\\tensorflow\\python\\util\\dispatch.py:206\u001b[0m, in \u001b[0;36madd_dispatch_support.<locals>.wrapper\u001b[1;34m(*args, **kwargs)\u001b[0m\n\u001b[0;32m    204\u001b[0m \u001b[38;5;250m\u001b[39m\u001b[38;5;124;03m\"\"\"Call target, and fall back on dispatchers if there is a TypeError.\"\"\"\u001b[39;00m\n\u001b[0;32m    205\u001b[0m \u001b[38;5;28;01mtry\u001b[39;00m:\n\u001b[1;32m--> 206\u001b[0m   \u001b[38;5;28;01mreturn\u001b[39;00m target(\u001b[38;5;241m*\u001b[39margs, \u001b[38;5;241m*\u001b[39m\u001b[38;5;241m*\u001b[39mkwargs)\n\u001b[0;32m    207\u001b[0m \u001b[38;5;28;01mexcept\u001b[39;00m (\u001b[38;5;167;01mTypeError\u001b[39;00m, \u001b[38;5;167;01mValueError\u001b[39;00m):\n\u001b[0;32m    208\u001b[0m   \u001b[38;5;66;03m# Note: convert_to_eager_tensor currently raises a ValueError, not a\u001b[39;00m\n\u001b[0;32m    209\u001b[0m   \u001b[38;5;66;03m# TypeError, when given unexpected types.  So we need to catch both.\u001b[39;00m\n\u001b[0;32m    210\u001b[0m   result \u001b[38;5;241m=\u001b[39m dispatch(wrapper, args, kwargs)\n",
      "File \u001b[1;32m~\\anaconda3\\envs\\ev_2\\lib\\site-packages\\tensorflow\\python\\ops\\stateless_random_ops.py:229\u001b[0m, in \u001b[0;36mstateless_random_uniform\u001b[1;34m(shape, seed, minval, maxval, dtype, name)\u001b[0m\n\u001b[0;32m    220\u001b[0m   result \u001b[38;5;241m=\u001b[39m gen_stateless_random_ops_v2\u001b[38;5;241m.\u001b[39mstateless_random_uniform_int_v2(\n\u001b[0;32m    221\u001b[0m       shape,\n\u001b[0;32m    222\u001b[0m       key\u001b[38;5;241m=\u001b[39mkey,\n\u001b[1;32m   (...)\u001b[0m\n\u001b[0;32m    226\u001b[0m       alg\u001b[38;5;241m=\u001b[39malg,\n\u001b[0;32m    227\u001b[0m       name\u001b[38;5;241m=\u001b[39mname)\n\u001b[0;32m    228\u001b[0m \u001b[38;5;28;01melse\u001b[39;00m:\n\u001b[1;32m--> 229\u001b[0m   key, counter, alg \u001b[38;5;241m=\u001b[39m \u001b[43m_get_key_counter_alg\u001b[49m\u001b[43m(\u001b[49m\u001b[43mseed\u001b[49m\u001b[43m)\u001b[49m\n\u001b[0;32m    230\u001b[0m   rnd \u001b[38;5;241m=\u001b[39m gen_stateless_random_ops_v2\u001b[38;5;241m.\u001b[39mstateless_random_uniform_v2(\n\u001b[0;32m    231\u001b[0m       shape, key\u001b[38;5;241m=\u001b[39mkey, counter\u001b[38;5;241m=\u001b[39mcounter, dtype\u001b[38;5;241m=\u001b[39mdtype, alg\u001b[38;5;241m=\u001b[39malg)\n\u001b[0;32m    232\u001b[0m   result \u001b[38;5;241m=\u001b[39m math_ops\u001b[38;5;241m.\u001b[39madd(rnd \u001b[38;5;241m*\u001b[39m (maxval \u001b[38;5;241m-\u001b[39m minval), minval, name\u001b[38;5;241m=\u001b[39mname)\n",
      "File \u001b[1;32m~\\anaconda3\\envs\\ev_2\\lib\\site-packages\\tensorflow\\python\\ops\\stateless_random_ops.py:126\u001b[0m, in \u001b[0;36m_get_key_counter_alg\u001b[1;34m(seed)\u001b[0m\n\u001b[0;32m    125\u001b[0m \u001b[38;5;28;01mdef\u001b[39;00m \u001b[38;5;21m_get_key_counter_alg\u001b[39m(seed):\n\u001b[1;32m--> 126\u001b[0m   key, counter \u001b[38;5;241m=\u001b[39m \u001b[43mgen_stateless_random_ops_v2\u001b[49m\u001b[38;5;241;43m.\u001b[39;49m\u001b[43mstateless_random_get_key_counter\u001b[49m\u001b[43m(\u001b[49m\n\u001b[0;32m    127\u001b[0m \u001b[43m      \u001b[49m\u001b[43mseed\u001b[49m\u001b[43m)\u001b[49m\n\u001b[0;32m    128\u001b[0m   alg \u001b[38;5;241m=\u001b[39m gen_stateless_random_ops_v2\u001b[38;5;241m.\u001b[39mstateless_random_get_alg()\n\u001b[0;32m    129\u001b[0m   \u001b[38;5;28;01mreturn\u001b[39;00m key, counter, alg\n",
      "File \u001b[1;32m~\\anaconda3\\envs\\ev_2\\lib\\site-packages\\tensorflow\\python\\ops\\gen_stateless_random_ops_v2.py:110\u001b[0m, in \u001b[0;36mstateless_random_get_key_counter\u001b[1;34m(seed, name)\u001b[0m\n\u001b[0;32m    108\u001b[0m   \u001b[38;5;28;01mpass\u001b[39;00m\n\u001b[0;32m    109\u001b[0m \u001b[38;5;28;01mtry\u001b[39;00m:\n\u001b[1;32m--> 110\u001b[0m   \u001b[38;5;28;01mreturn\u001b[39;00m \u001b[43mstateless_random_get_key_counter_eager_fallback\u001b[49m\u001b[43m(\u001b[49m\n\u001b[0;32m    111\u001b[0m \u001b[43m      \u001b[49m\u001b[43mseed\u001b[49m\u001b[43m,\u001b[49m\u001b[43m \u001b[49m\u001b[43mname\u001b[49m\u001b[38;5;241;43m=\u001b[39;49m\u001b[43mname\u001b[49m\u001b[43m,\u001b[49m\u001b[43m \u001b[49m\u001b[43mctx\u001b[49m\u001b[38;5;241;43m=\u001b[39;49m\u001b[43m_ctx\u001b[49m\u001b[43m)\u001b[49m\n\u001b[0;32m    112\u001b[0m \u001b[38;5;28;01mexcept\u001b[39;00m _core\u001b[38;5;241m.\u001b[39m_SymbolicException:\n\u001b[0;32m    113\u001b[0m   \u001b[38;5;28;01mpass\u001b[39;00m  \u001b[38;5;66;03m# Add nodes to the TensorFlow graph.\u001b[39;00m\n",
      "File \u001b[1;32m~\\anaconda3\\envs\\ev_2\\lib\\site-packages\\tensorflow\\python\\ops\\gen_stateless_random_ops_v2.py:133\u001b[0m, in \u001b[0;36mstateless_random_get_key_counter_eager_fallback\u001b[1;34m(seed, name, ctx)\u001b[0m\n\u001b[0;32m    131\u001b[0m _inputs_flat \u001b[38;5;241m=\u001b[39m [seed]\n\u001b[0;32m    132\u001b[0m _attrs \u001b[38;5;241m=\u001b[39m (\u001b[38;5;124m\"\u001b[39m\u001b[38;5;124mTseed\u001b[39m\u001b[38;5;124m\"\u001b[39m, _attr_Tseed)\n\u001b[1;32m--> 133\u001b[0m _result \u001b[38;5;241m=\u001b[39m \u001b[43m_execute\u001b[49m\u001b[38;5;241;43m.\u001b[39;49m\u001b[43mexecute\u001b[49m\u001b[43m(\u001b[49m\u001b[38;5;124;43mb\u001b[39;49m\u001b[38;5;124;43m\"\u001b[39;49m\u001b[38;5;124;43mStatelessRandomGetKeyCounter\u001b[39;49m\u001b[38;5;124;43m\"\u001b[39;49m\u001b[43m,\u001b[49m\u001b[43m \u001b[49m\u001b[38;5;241;43m2\u001b[39;49m\u001b[43m,\u001b[49m\n\u001b[0;32m    134\u001b[0m \u001b[43m                           \u001b[49m\u001b[43minputs\u001b[49m\u001b[38;5;241;43m=\u001b[39;49m\u001b[43m_inputs_flat\u001b[49m\u001b[43m,\u001b[49m\u001b[43m \u001b[49m\u001b[43mattrs\u001b[49m\u001b[38;5;241;43m=\u001b[39;49m\u001b[43m_attrs\u001b[49m\u001b[43m,\u001b[49m\u001b[43m \u001b[49m\u001b[43mctx\u001b[49m\u001b[38;5;241;43m=\u001b[39;49m\u001b[43mctx\u001b[49m\u001b[43m,\u001b[49m\n\u001b[0;32m    135\u001b[0m \u001b[43m                           \u001b[49m\u001b[43mname\u001b[49m\u001b[38;5;241;43m=\u001b[39;49m\u001b[43mname\u001b[49m\u001b[43m)\u001b[49m\n\u001b[0;32m    136\u001b[0m \u001b[38;5;28;01mif\u001b[39;00m _execute\u001b[38;5;241m.\u001b[39mmust_record_gradient():\n\u001b[0;32m    137\u001b[0m   _execute\u001b[38;5;241m.\u001b[39mrecord_gradient(\n\u001b[0;32m    138\u001b[0m       \u001b[38;5;124m\"\u001b[39m\u001b[38;5;124mStatelessRandomGetKeyCounter\u001b[39m\u001b[38;5;124m\"\u001b[39m, _inputs_flat, _attrs, _result)\n",
      "File \u001b[1;32m~\\anaconda3\\envs\\ev_2\\lib\\site-packages\\tensorflow\\python\\eager\\execute.py:59\u001b[0m, in \u001b[0;36mquick_execute\u001b[1;34m(op_name, num_outputs, inputs, attrs, ctx, name)\u001b[0m\n\u001b[0;32m     57\u001b[0m \u001b[38;5;28;01mtry\u001b[39;00m:\n\u001b[0;32m     58\u001b[0m   ctx\u001b[38;5;241m.\u001b[39mensure_initialized()\n\u001b[1;32m---> 59\u001b[0m   tensors \u001b[38;5;241m=\u001b[39m \u001b[43mpywrap_tfe\u001b[49m\u001b[38;5;241;43m.\u001b[39;49m\u001b[43mTFE_Py_Execute\u001b[49m\u001b[43m(\u001b[49m\u001b[43mctx\u001b[49m\u001b[38;5;241;43m.\u001b[39;49m\u001b[43m_handle\u001b[49m\u001b[43m,\u001b[49m\u001b[43m \u001b[49m\u001b[43mdevice_name\u001b[49m\u001b[43m,\u001b[49m\u001b[43m \u001b[49m\u001b[43mop_name\u001b[49m\u001b[43m,\u001b[49m\n\u001b[0;32m     60\u001b[0m \u001b[43m                                      \u001b[49m\u001b[43minputs\u001b[49m\u001b[43m,\u001b[49m\u001b[43m \u001b[49m\u001b[43mattrs\u001b[49m\u001b[43m,\u001b[49m\u001b[43m \u001b[49m\u001b[43mnum_outputs\u001b[49m\u001b[43m)\u001b[49m\n\u001b[0;32m     61\u001b[0m \u001b[38;5;28;01mexcept\u001b[39;00m core\u001b[38;5;241m.\u001b[39m_NotOkStatusException \u001b[38;5;28;01mas\u001b[39;00m e:\n\u001b[0;32m     62\u001b[0m   \u001b[38;5;28;01mif\u001b[39;00m name \u001b[38;5;129;01mis\u001b[39;00m \u001b[38;5;129;01mnot\u001b[39;00m \u001b[38;5;28;01mNone\u001b[39;00m:\n",
      "\u001b[1;31mKeyboardInterrupt\u001b[0m: "
     ]
    }
   ],
   "source": [
    "for file_image in os.listdir(os.path.join(POS_PATH)):\n",
    "    img_path=os.path.join(POS_PATH,file_image)\n",
    "    img=cv2.imread(img_path)\n",
    "    augmented_img=data_aug(img)\n",
    "\n",
    "    for image in augmented_img:\n",
    "        cv2.imwrite(os.path.join(POS_PATH,'{}.jpg'.format(uuid.uuid1())),image.numpy())"
   ]
  },
  {
   "cell_type": "markdown",
   "id": "bf1081b0",
   "metadata": {},
   "source": [
    "## 3.Load and Preprocess Images"
   ]
  },
  {
   "cell_type": "markdown",
   "id": "dc7502eb",
   "metadata": {},
   "source": [
    "### 3.1 Get Images Directories"
   ]
  },
  {
   "cell_type": "code",
   "execution_count": 5,
   "id": "591b1753",
   "metadata": {},
   "outputs": [],
   "source": [
    "#obtain image directory (files)\n",
    "#create a pipline for all the diff files\n",
    "anchor=tf.data.Dataset.list_files(ANC_PATH+'\\*.jpg').take(3000)\n",
    "positive=tf.data.Dataset.list_files(POS_PATH+'\\*.jpg').take(3000)\n",
    "negative=tf.data.Dataset.list_files(NEG_PATH+'\\*.jpg').take(3000)"
   ]
  },
  {
   "cell_type": "code",
   "execution_count": 6,
   "id": "102ce81d",
   "metadata": {},
   "outputs": [
    {
     "data": {
      "text/plain": [
       "b'data\\\\anchor\\\\a52168a4-bfbb-11ee-a2c4-d8f8839e51fc.jpg'"
      ]
     },
     "execution_count": 6,
     "metadata": {},
     "output_type": "execute_result"
    }
   ],
   "source": [
    "#access the iterator\n",
    "dir_test=anchor.as_numpy_iterator()\n",
    "#the full path to a specific image\n",
    "dir_test.next() #next element at the pipline"
   ]
  },
  {
   "cell_type": "markdown",
   "id": "64fce58a",
   "metadata": {},
   "source": [
    "### 3.2 Preprocessing_ Scale and Resize"
   ]
  },
  {
   "cell_type": "code",
   "execution_count": 7,
   "id": "5f0c13ea",
   "metadata": {},
   "outputs": [],
   "source": [
    "# Create a preprocessing Pipline \n",
    "\n",
    "def preprocess(file_path):\n",
    "    \n",
    "    byte_img=tf.io.read_file(file_path)#load/read the img from the file\n",
    "    img=tf.image.decode_jpeg(byte_img)#decode the jpg img\n",
    "    \n",
    "    #preprocessing steps\n",
    "    img=tf.image.resize(img,(105,105))#resize the img to 105*105*3\n",
    "    img=img/255.0 #scale img\n",
    "    return img"
   ]
  },
  {
   "cell_type": "code",
   "execution_count": 77,
   "id": "72e64aa7",
   "metadata": {},
   "outputs": [
    {
     "data": {
      "text/plain": [
       "1.0"
      ]
     },
     "execution_count": 77,
     "metadata": {},
     "output_type": "execute_result"
    },
    {
     "data": {
      "image/png": "[encoded data removed]",
      "text/plain": [
       "<Figure size 640x480 with 1 Axes>"
      ]
     },
     "metadata": {},
     "output_type": "display_data"
    }
   ],
   "source": [
    "img=preprocess('data\\\\anchor\\\\b15e5c0b-b1a5-11ee-aea0-d8f8839e51ff.jpg')\n",
    "plt.imshow(img)\n",
    "img.numpy().max()"
   ]
  },
  {
   "cell_type": "markdown",
   "id": "602523a0",
   "metadata": {},
   "source": [
    "### 3.3 Create Labelled Dataset"
   ]
  },
  {
   "cell_type": "code",
   "execution_count": 78,
   "id": "e9b28f84",
   "metadata": {},
   "outputs": [],
   "source": [
    "#create positive and negative exemples\n",
    "\n",
    "#(anchor,positive) => 1,1,1,1,1  positive class\n",
    "#(anchor,negative) => 0,0,0,0  Negative class"
   ]
  },
  {
   "cell_type": "code",
   "execution_count": 8,
   "id": "bcda68cf",
   "metadata": {},
   "outputs": [],
   "source": [
    "#zip allows us to iterate through all the tree at the same time\n",
    "positives=tf.data.Dataset.zip( (anchor, positive, tf.data.Dataset.from_tensor_slices(tf.ones(len(anchor)))))\n",
    "negatives=tf.data.Dataset.zip((anchor,negative,tf.data.Dataset.from_tensor_slices(tf.zeros(len(anchor)))))\n",
    "data=positives.concatenate(negatives)"
   ]
  },
  {
   "cell_type": "code",
   "execution_count": 80,
   "id": "ad354d3f",
   "metadata": {},
   "outputs": [
    {
     "data": {
      "text/plain": [
       "<ConcatenateDataset shapes: ((), (), ()), types: (tf.string, tf.string, tf.float32)>"
      ]
     },
     "execution_count": 80,
     "metadata": {},
     "output_type": "execute_result"
    }
   ],
   "source": [
    "#data contain (anchor),(positive or negative),(1 or 0)\n",
    "data"
   ]
  },
  {
   "cell_type": "code",
   "execution_count": 81,
   "id": "626ce3dc",
   "metadata": {},
   "outputs": [
    {
     "data": {
      "text/plain": [
       "(b'data\\\\anchor\\\\ea3ff2a9-bfa7-11ee-8f6f-d8f8839e51fc.jpg',\n",
       " b'data\\\\positive\\\\9a219b84-bfbb-11ee-92db-d8f8839e51fc.jpg',\n",
       " 1.0)"
      ]
     },
     "execution_count": 81,
     "metadata": {},
     "output_type": "execute_result"
    }
   ],
   "source": [
    "samples=data.as_numpy_iterator()\n",
    "samples.next()\n"
   ]
  },
  {
   "cell_type": "markdown",
   "id": "f4b4f77f",
   "metadata": {},
   "source": [
    "### 3.4 Build Train and Test Partition"
   ]
  },
  {
   "cell_type": "code",
   "execution_count": 9,
   "id": "f4528519",
   "metadata": {},
   "outputs": [],
   "source": [
    "#write a function to process a twin\n",
    "\n",
    "def preprocess_twin(input_img, validation_img, label):\n",
    "    return(preprocess(input_img), preprocess(validation_img), label)\n",
    "    \n"
   ]
  },
  {
   "cell_type": "code",
   "execution_count": 10,
   "id": "49b69bb3",
   "metadata": {},
   "outputs": [],
   "source": [
    "# build data pipeline\n",
    "\n",
    "data=data.map(preprocess_twin)#run the preprocess_twin function\n",
    "data=data.cache()# cache our images \n",
    "data=data.shuffle(buffer_size=10000) # shuffled our images to have mixed set of ex"
   ]
  },
  {
   "cell_type": "code",
   "execution_count": 97,
   "id": "ad889196",
   "metadata": {},
   "outputs": [
    {
     "data": {
      "text/plain": [
       "<ShuffleDataset shapes: ((105, 105, None), (105, 105, None), ()), types: (tf.float32, tf.float32, tf.float32)>"
      ]
     },
     "execution_count": 97,
     "metadata": {},
     "output_type": "execute_result"
    }
   ],
   "source": [
    "data"
   ]
  },
  {
   "cell_type": "code",
   "execution_count": 85,
   "id": "ce24cc86",
   "metadata": {},
   "outputs": [
    {
     "data": {
      "text/plain": [
       "3"
      ]
     },
     "execution_count": 85,
     "metadata": {},
     "output_type": "execute_result"
    }
   ],
   "source": [
    "sample=data.as_numpy_iterator()\n",
    "len(sample.next())"
   ]
  },
  {
   "cell_type": "code",
   "execution_count": 86,
   "id": "1cdb6907",
   "metadata": {},
   "outputs": [
    {
     "data": {
      "text/plain": [
       "<matplotlib.image.AxesImage at 0x1fcbfdb6a90>"
      ]
     },
     "execution_count": 86,
     "metadata": {},
     "output_type": "execute_result"
    },
    {
     "data": {
      "image/png": "[encoded data removed]",
      "text/plain": [
       "<Figure size 640x480 with 1 Axes>"
      ]
     },
     "metadata": {},
     "output_type": "display_data"
    }
   ],
   "source": [
    "plt.imshow(sample.next()[1])"
   ]
  },
  {
   "cell_type": "code",
   "execution_count": 87,
   "id": "97603329",
   "metadata": {},
   "outputs": [
    {
     "data": {
      "text/plain": [
       "0.0"
      ]
     },
     "execution_count": 87,
     "metadata": {},
     "output_type": "execute_result"
    }
   ],
   "source": [
    "sample.next()[2]"
   ]
  },
  {
   "cell_type": "code",
   "execution_count": 64,
   "id": "0d0a88df",
   "metadata": {},
   "outputs": [
    {
     "data": {
      "text/plain": [
       "<ShuffleDataset shapes: ((105, 105, None), (105, 105, None), ()), types: (tf.float32, tf.float32, tf.float32)>"
      ]
     },
     "execution_count": 64,
     "metadata": {},
     "output_type": "execute_result"
    }
   ],
   "source": [
    "data"
   ]
  },
  {
   "cell_type": "code",
   "execution_count": 11,
   "id": "0b275c41",
   "metadata": {},
   "outputs": [],
   "source": [
    "#train Partition\n",
    "train_data=data.take(round(len(data)*0.7)) #70% trainning\n",
    "train_data=train_data.batch(16)#batch size 16\n",
    "train_data=train_data.prefetch(8)#start preprocessing the 8 next images so we don't bottleneck our neural network when we go and train.\n"
   ]
  },
  {
   "cell_type": "code",
   "execution_count": 65,
   "id": "376634cb",
   "metadata": {},
   "outputs": [
    {
     "data": {
      "text/plain": [
       "<PrefetchDataset shapes: ((None, 105, 105, None), (None, 105, 105, None), (None,)), types: (tf.float32, tf.float32, tf.float32)>"
      ]
     },
     "execution_count": 65,
     "metadata": {},
     "output_type": "execute_result"
    }
   ],
   "source": [
    "train_data"
   ]
  },
  {
   "cell_type": "code",
   "execution_count": null,
   "id": "34c183cf",
   "metadata": {},
   "outputs": [],
   "source": [
    "#16 images will be processed at the same time"
   ]
  },
  {
   "cell_type": "code",
   "execution_count": 12,
   "id": "61fee208",
   "metadata": {},
   "outputs": [],
   "source": [
    "#Testing Partition\n",
    "test_data=data.skip(round(len(data)*0.7))# skip 70% \n",
    "test_data=test_data.take(round(len(data)*0.3)) #took 30%\n",
    "test_data=test_data.batch(16)#batch size 16\n",
    "test_data=test_data.prefetch(8)"
   ]
  },
  {
   "cell_type": "markdown",
   "id": "6a1897a1",
   "metadata": {},
   "source": [
    "## 4 Model Engineering"
   ]
  },
  {
   "cell_type": "markdown",
   "id": "a1c421bc",
   "metadata": {},
   "source": [
    "## 4.1 Build Embedding Layer"
   ]
  },
  {
   "cell_type": "code",
   "execution_count": 13,
   "id": "8701b22a",
   "metadata": {},
   "outputs": [],
   "source": [
    "# Build our neural Network pipeline=>translating our input image to feature vector\n",
    "def make_embedding():\n",
    "    # Create Input Layer\n",
    "    inp=Input(shape=(105,105,3), name='input_image')\n",
    "    \n",
    "    # First Block\n",
    "    c1= Conv2D(64,(10,10),activation='relu')(inp)\n",
    "    m1=MaxPooling2D(64,(2,2),padding='same')(c1)\n",
    "    \n",
    "    # Second Block\n",
    "    c2= Conv2D(128,(7,7),activation='relu')(m1)\n",
    "    m2=MaxPooling2D(64,(2,2),padding='same')(c2)\n",
    "    \n",
    "    # 3 Block\n",
    "    c3= Conv2D(128,(4,4),activation='relu')(m2)\n",
    "    m3=MaxPooling2D(64,(2,2),padding='same')(c3)\n",
    "    \n",
    "    # final Enbedding Block\n",
    "    c4= Conv2D(256,(4,4),activation='relu')(m3)\n",
    "    f1=Flatten()(c4) #get single D\n",
    "    #final Layer\n",
    "    d1=Dense(4096,activation='sigmoid')(f1)#4096 Feature vector\n",
    "    \n",
    "    \n",
    "    return Model(inputs=[inp] ,outputs=[d1], name='embedding')"
   ]
  },
  {
   "cell_type": "code",
   "execution_count": 14,
   "id": "94b53fbd",
   "metadata": {},
   "outputs": [],
   "source": [
    "embedding=make_embedding()"
   ]
  },
  {
   "cell_type": "code",
   "execution_count": 15,
   "id": "116a735e",
   "metadata": {},
   "outputs": [
    {
     "name": "stdout",
     "output_type": "stream",
     "text": [
      "Model: \"embedding\"\n",
      "_________________________________________________________________\n",
      "Layer (type)                 Output Shape              Param #   \n",
      "=================================================================\n",
      "input_image (InputLayer)     [(None, 105, 105, 3)]     0         \n",
      "_________________________________________________________________\n",
      "conv2d (Conv2D)              (None, 96, 96, 64)        19264     \n",
      "_________________________________________________________________\n",
      "max_pooling2d (MaxPooling2D) (None, 48, 48, 64)        0         \n",
      "_________________________________________________________________\n",
      "conv2d_1 (Conv2D)            (None, 42, 42, 128)       401536    \n",
      "_________________________________________________________________\n",
      "max_pooling2d_1 (MaxPooling2 (None, 21, 21, 128)       0         \n",
      "_________________________________________________________________\n",
      "conv2d_2 (Conv2D)            (None, 18, 18, 128)       262272    \n",
      "_________________________________________________________________\n",
      "max_pooling2d_2 (MaxPooling2 (None, 9, 9, 128)         0         \n",
      "_________________________________________________________________\n",
      "conv2d_3 (Conv2D)            (None, 6, 6, 256)         524544    \n",
      "_________________________________________________________________\n",
      "flatten (Flatten)            (None, 9216)              0         \n",
      "_________________________________________________________________\n",
      "dense (Dense)                (None, 4096)              37752832  \n",
      "=================================================================\n",
      "Total params: 38,960,448\n",
      "Trainable params: 38,960,448\n",
      "Non-trainable params: 0\n",
      "_________________________________________________________________\n"
     ]
    }
   ],
   "source": [
    "embedding.summary()"
   ]
  },
  {
   "cell_type": "markdown",
   "id": "b9db0477",
   "metadata": {},
   "source": [
    "## 4.2 Build L1 Siamese Distance Layer"
   ]
  },
  {
   "cell_type": "code",
   "execution_count": 16,
   "id": "5e81e599",
   "metadata": {},
   "outputs": [],
   "source": [
    "#create Siamese L1 distance Class (in order to subtract output of the embedding images) \n",
    "#Let's create a new class for our custom layer\n",
    "class L1Dist(Layer):\n",
    "    #define the base init method inside of a python class - inheritance\n",
    "    def __init__(self,**kwargs):\n",
    "        super().__init__()\n",
    "        \n",
    "        \n",
    "        \n",
    "    #call function is responsible for telling what to do when some data is passed to it    \n",
    "    def call(self,input_embedding, validation_embedding):\n",
    "        # similarity Calculation       \n",
    "        return tf.math.abs(input_embedding - validation_embedding)\n",
    "        "
   ]
  },
  {
   "cell_type": "markdown",
   "id": "7af5aeec",
   "metadata": {},
   "source": [
    "## 4.3 Make Siamese Model"
   ]
  },
  {
   "cell_type": "code",
   "execution_count": 17,
   "id": "dd246521",
   "metadata": {},
   "outputs": [],
   "source": [
    "\n",
    "def make_Siamese_model():\n",
    "    #Handle inputs\n",
    "    #anchor image input in the network\n",
    "    input_image=Input(name=\"input_img\",shape=(105,105,3))\n",
    "    \n",
    "    #validation image input in the network\n",
    "    validation_image=Input(name=\"validation_img\",shape=(105,105,3))\n",
    "    \n",
    "    #pass the input images to the embedding layer\n",
    "    input_embedding=embedding(input_image)\n",
    "    validation_embedding=embedding(validation_image)\n",
    "    \n",
    "    #distance Layer\n",
    "    l1=L1Dist()\n",
    "    distances=l1(input_embedding,validation_embedding)\n",
    "    \n",
    "    #combine the distances into a final fuuly connected Layer\n",
    "    classifier = Dense(1, activation='sigmoid')(distances)\n",
    "    \n",
    "    return Model(inputs=[input_image,validation_image],outputs=classifier,name=\"SiameseNetwork\")"
   ]
  },
  {
   "cell_type": "code",
   "execution_count": 18,
   "id": "a0b0f097",
   "metadata": {},
   "outputs": [
    {
     "name": "stdout",
     "output_type": "stream",
     "text": [
      "Model: \"SiameseNetwork\"\n",
      "__________________________________________________________________________________________________\n",
      "Layer (type)                    Output Shape         Param #     Connected to                     \n",
      "==================================================================================================\n",
      "input_img (InputLayer)          [(None, 105, 105, 3) 0                                            \n",
      "__________________________________________________________________________________________________\n",
      "validation_img (InputLayer)     [(None, 105, 105, 3) 0                                            \n",
      "__________________________________________________________________________________________________\n",
      "embedding (Functional)          (None, 4096)         38960448    input_img[0][0]                  \n",
      "                                                                 validation_img[0][0]             \n",
      "__________________________________________________________________________________________________\n",
      "l1_dist (L1Dist)                (None, 4096)         0           embedding[0][0]                  \n",
      "                                                                 embedding[1][0]                  \n",
      "__________________________________________________________________________________________________\n",
      "dense_1 (Dense)                 (None, 1)            4097        l1_dist[0][0]                    \n",
      "==================================================================================================\n",
      "Total params: 38,964,545\n",
      "Trainable params: 38,964,545\n",
      "Non-trainable params: 0\n",
      "__________________________________________________________________________________________________\n"
     ]
    }
   ],
   "source": [
    "Model=make_Siamese_model()\n",
    "Model.summary()"
   ]
  },
  {
   "cell_type": "markdown",
   "id": "388643f0",
   "metadata": {},
   "source": [
    "## 5 Trainning the Model"
   ]
  },
  {
   "cell_type": "markdown",
   "id": "6776b314",
   "metadata": {},
   "source": [
    "### 5.1 SetUp Loss and Optimizer"
   ]
  },
  {
   "cell_type": "code",
   "execution_count": 19,
   "id": "9d8b9c2a",
   "metadata": {},
   "outputs": [],
   "source": [
    "#define the Loss Function\n",
    "binary_cross_loss=tf.keras.losses.BinaryCrossentropy()#we can add parm from_logits=True it is recommended when the inputs to the loss finction are not normalized\n",
    "\n"
   ]
  },
  {
   "cell_type": "code",
   "execution_count": 20,
   "id": "95e01042",
   "metadata": {},
   "outputs": [],
   "source": [
    "#define the optimizer\n",
    "opt=tf.keras.optimizers.Adam(0.0001)#learning rate is 0.0001"
   ]
  },
  {
   "cell_type": "markdown",
   "id": "60c353ff",
   "metadata": {},
   "source": [
    "### 5.2 Establish Checkpoints callbacks"
   ]
  },
  {
   "cell_type": "code",
   "execution_count": 21,
   "id": "d397c2ef",
   "metadata": {},
   "outputs": [],
   "source": [
    "#set Up checkpoint components\n",
    "\n",
    "#define checkpoint dir to save all checkpoints\n",
    "checkpoint_dir='./training_checkpoints'\n",
    "\n",
    "#prefix all the checkpoint with ckpt format \n",
    "checkpoint_prefix=os.path.join(checkpoint_dir,'ckpt')\n",
    "\n",
    "#define checkpoint Class\n",
    "checkpoint=tf.train.Checkpoint(opt=opt,Model=Model)\n",
    "\n",
    "#to reload the pre trained weights into the existing model we can use mode.load('path_to_checkpoints')"
   ]
  },
  {
   "cell_type": "markdown",
   "id": "bead949c",
   "metadata": {},
   "source": [
    "### 5.3 Build Train Step Function\n"
   ]
  },
  {
   "cell_type": "code",
   "execution_count": 22,
   "id": "887b8648",
   "metadata": {},
   "outputs": [],
   "source": [
    "#define what happen when we train a single batch OF data\n",
    "\n",
    "#defining the actual training step\n",
    "\n",
    "@tf.function #allow faster execution\n",
    "def train_step(batch):\n",
    "    \n",
    "    #capturing gradients from the neural network(calculating our differentiation)\n",
    "    #capturing what happen inside the neural network\n",
    "    with tf.GradientTape() as tape:\n",
    "        \n",
    "        #Get anchor and positive/negative images\n",
    "        X= batch[:2] #extracting our batchs\n",
    "        #Get Label\n",
    "        y= batch[2]\n",
    "        \n",
    "        \n",
    "        #pass batch to siamese neural network\n",
    "        y_pred = Model(X, training=True) #training=True to activate certain layer\n",
    "        #calculate loss\n",
    "        loss=binary_cross_loss(y,y_pred)\n",
    "    \n",
    "    \n",
    "    #calculate all the gradients four diff weights\n",
    "    grad=tape.gradient(loss,Model.trainable_variables)#calculate the gradient for all the different trainable variable\n",
    "    \n",
    "    \n",
    "    #update weights\n",
    "    #calculate new weights and apply it to the model\n",
    "    opt.apply_gradients(zip(grad,Model.trainable_variables))\n",
    "    return loss\n",
    "\n",
    "\n",
    "\n",
    "\n",
    "\n",
    "\n",
    "\n",
    "\n"
   ]
  },
  {
   "cell_type": "markdown",
   "id": "62f79f23",
   "metadata": {},
   "source": [
    "### 5.4 define Trainnig Loop"
   ]
  },
  {
   "cell_type": "code",
   "execution_count": 23,
   "id": "41617a72",
   "metadata": {},
   "outputs": [],
   "source": [
    "#Import metrics Calculations\n",
    "from tensorflow.keras.metrics import Precision,Recall"
   ]
  },
  {
   "cell_type": "code",
   "execution_count": 24,
   "id": "1c5c28cd",
   "metadata": {},
   "outputs": [],
   "source": [
    "#applaying trainning steps for each epoch\n",
    "\n",
    "def train(data,EPOCHS):\n",
    "    \n",
    "    #loop through the epochs\n",
    "    for epoch in range(1, EPOCHS + 1):\n",
    "        print(\"\\n Epoch {}/{}\".format(epoch,EPOCHS))\n",
    "        #define progress bar\n",
    "        progbar=tf.keras.utils.Progbar(len(data))  #increment evey batch\n",
    "        \n",
    "        #creating a metric object\n",
    "        r=Recall()\n",
    "        p=Precision()\n",
    "    \n",
    "        #loop through each batch\n",
    "        for idx,batch in enumerate(data): #(counter,actual batch)\n",
    "            \n",
    "            #run train step \n",
    "            loss=train_step(batch)\n",
    "            yhat=Model.predict(batch[:2])\n",
    "            r.update_state(batch[2],yhat)\n",
    "            p.update_state(batch[2],yhat)\n",
    "            progbar.update(idx+1) #every time a batch is train progress bar is updated\n",
    "        print(\"loss= {}, recall= {}, Precision= {} \".format(loss.numpy(),  r.result().numpy(),   p.result().numpy()))\n",
    "        #save checkpoint evey 10 epochs\n",
    "        if epoch % 10==0:\n",
    "             checkpoint.save(file_prefix=checkpoint_prefix)\n",
    "\n"
   ]
  },
  {
   "cell_type": "markdown",
   "id": "2ad20f9e",
   "metadata": {},
   "source": [
    "### 5.5 Train the Entire Model"
   ]
  },
  {
   "cell_type": "code",
   "execution_count": 25,
   "id": "9fd96490",
   "metadata": {},
   "outputs": [
    {
     "name": "stdout",
     "output_type": "stream",
     "text": [
      "\n",
      " Epoch 1/50\n",
      "263/263 [==============================] - 174s 577ms/step\n",
      "loss= 0.09558246284723282, recall= 0.8728652596473694, Precision= 0.9776833057403564 \n",
      "\n",
      " Epoch 2/50\n",
      "263/263 [==============================] - 147s 559ms/step\n",
      "loss= 0.9677596092224121, recall= 0.9690476059913635, Precision= 0.9854721426963806 \n",
      "\n",
      " Epoch 3/50\n",
      "263/263 [==============================] - 148s 564ms/step\n",
      "loss= 0.010379765182733536, recall= 0.9650283455848694, Precision= 0.9714557528495789 \n",
      "\n",
      " Epoch 4/50\n",
      "263/263 [==============================] - 145s 550ms/step\n",
      "loss= 0.09858343750238419, recall= 0.9797265529632568, Precision= 0.9801886677742004 \n",
      "\n",
      " Epoch 5/50\n",
      "263/263 [==============================] - 144s 547ms/step\n",
      "loss= 0.0687076523900032, recall= 0.9867235422134399, Precision= 0.986255943775177 \n",
      "\n",
      " Epoch 6/50\n",
      "263/263 [==============================] - 144s 547ms/step\n",
      "loss= 0.02892053686082363, recall= 0.9933333396911621, Precision= 0.9876893758773804 \n",
      "\n",
      " Epoch 7/50\n",
      "263/263 [==============================] - 143s 544ms/step\n",
      "loss= 0.00931424368172884, recall= 0.9899521470069885, Precision= 0.983364999294281 \n",
      "\n",
      " Epoch 8/50\n",
      "263/263 [==============================] - 143s 544ms/step\n",
      "loss= 0.015204201452434063, recall= 0.9900615215301514, Precision= 0.9881908297538757 \n",
      "\n",
      " Epoch 9/50\n",
      "263/263 [==============================] - 143s 543ms/step\n",
      "loss= 0.06490530073642731, recall= 0.9943369626998901, Precision= 0.9901315569877625 \n",
      "\n",
      " Epoch 10/50\n",
      "263/263 [==============================] - 142s 541ms/step\n",
      "loss= 0.015997517853975296, recall= 0.9938242435455322, Precision= 0.9914692044258118 \n",
      "\n",
      " Epoch 11/50\n",
      "263/263 [==============================] - 531s 2s/step\n",
      "loss= 0.025700101628899574, recall= 0.9908565878868103, Precision= 0.9913336634635925 \n",
      "\n",
      " Epoch 12/50\n",
      "263/263 [==============================] - 133s 507ms/step\n",
      "loss= 0.020538151264190674, recall= 0.9914692044258118, Precision= 0.9891253113746643 \n",
      "\n",
      " Epoch 13/50\n",
      "263/263 [==============================] - 134s 508ms/step\n",
      "loss= 0.0031670641619712114, recall= 0.9948186278343201, Precision= 0.9915493130683899 \n",
      "\n",
      " Epoch 14/50\n",
      "263/263 [==============================] - 134s 508ms/step\n",
      "loss= 0.010080508887767792, recall= 0.9952426552772522, Precision= 0.9909995198249817 \n",
      "\n",
      " Epoch 15/50\n",
      "263/263 [==============================] - 134s 509ms/step\n",
      "loss= 0.06831366568803787, recall= 0.9980961680412292, Precision= 0.9928977489471436 \n",
      "\n",
      " Epoch 16/50\n",
      "263/263 [==============================] - 134s 509ms/step\n",
      "loss= 0.00793036725372076, recall= 0.9913169145584106, Precision= 0.9875060319900513 \n",
      "\n",
      " Epoch 17/50\n",
      "263/263 [==============================] - 133s 505ms/step\n",
      "loss= 0.060828279703855515, recall= 0.994315505027771, Precision= 0.9924349784851074 \n",
      "\n",
      " Epoch 18/50\n",
      "263/263 [==============================] - 134s 508ms/step\n",
      "loss= 0.007019327953457832, recall= 0.9957224130630493, Precision= 0.9919507503509521 \n",
      "\n",
      " Epoch 19/50\n",
      "263/263 [==============================] - 134s 509ms/step\n",
      "loss= 0.040713608264923096, recall= 0.9951643943786621, Precision= 0.9927641153335571 \n",
      "\n",
      " Epoch 20/50\n",
      "263/263 [==============================] - 133s 507ms/step\n",
      "loss= 0.00030368869192898273, recall= 0.9985842108726501, Precision= 0.9952963590621948 \n",
      "\n",
      " Epoch 21/50\n",
      "263/263 [==============================] - 134s 508ms/step\n",
      "loss= 0.00047860827180556953, recall= 0.9990512132644653, Precision= 0.9985775351524353 \n",
      "\n",
      " Epoch 22/50\n",
      "263/263 [==============================] - 134s 510ms/step\n",
      "loss= 3.397483396838652e-06, recall= 0.9980979561805725, Precision= 0.994315505027771 \n",
      "\n",
      " Epoch 23/50\n",
      "263/263 [==============================] - 133s 507ms/step\n",
      "loss= 0.0002919475664384663, recall= 0.9985563158988953, Precision= 0.9956814050674438 \n",
      "\n",
      " Epoch 24/50\n",
      "263/263 [==============================] - 133s 507ms/step\n",
      "loss= 0.00461285887286067, recall= 0.9971264600753784, Precision= 0.9942693114280701 \n",
      "\n",
      " Epoch 25/50\n",
      "263/263 [==============================] - 134s 508ms/step\n",
      "loss= 0.0010538683272898197, recall= 0.9990552663803101, Precision= 0.9981123208999634 \n",
      "\n",
      " Epoch 26/50\n",
      "263/263 [==============================] - 134s 508ms/step\n",
      "loss= 0.02386554703116417, recall= 0.9995226860046387, Precision= 0.99666827917099 \n",
      "\n",
      " Epoch 27/50\n",
      "263/263 [==============================] - 133s 507ms/step\n",
      "loss= 0.004669599700719118, recall= 0.9971604347229004, Precision= 0.9957466721534729 \n",
      "\n",
      " Epoch 28/50\n",
      "263/263 [==============================] - 134s 509ms/step\n",
      "loss= 0.014478351920843124, recall= 0.9951992034912109, Precision= 0.9975938200950623 \n",
      "\n",
      " Epoch 29/50\n",
      "263/263 [==============================] - 133s 507ms/step\n",
      "loss= 0.016314003616571426, recall= 0.996219277381897, Precision= 0.9948088526725769 \n",
      "\n",
      " Epoch 30/50\n",
      "263/263 [==============================] - 133s 506ms/step\n",
      "loss= 0.003843977814540267, recall= 0.9980979561805725, Precision= 0.9980979561805725 \n",
      "\n",
      " Epoch 31/50\n",
      "263/263 [==============================] - 133s 505ms/step\n",
      "loss= 0.007249768823385239, recall= 0.9966490864753723, Precision= 0.9956958293914795 \n",
      "\n",
      " Epoch 32/50\n",
      "263/263 [==============================] - 133s 504ms/step\n",
      "loss= 0.03372550755739212, recall= 0.9976145029067993, Precision= 0.9919354915618896 \n",
      "\n",
      " Epoch 33/50\n",
      "263/263 [==============================] - 133s 504ms/step\n",
      "loss= 0.008390585891902447, recall= 0.9985693693161011, Precision= 0.9971428513526917 \n",
      "\n",
      " Epoch 34/50\n",
      "263/263 [==============================] - 132s 503ms/step\n",
      "loss= 3.309060775791295e-05, recall= 0.9990597367286682, Precision= 0.9985902309417725 \n",
      "\n",
      " Epoch 35/50\n",
      "263/263 [==============================] - 133s 505ms/step\n",
      "loss= 0.0028453662525862455, recall= 0.998106062412262, Precision= 0.999052107334137 \n",
      "\n",
      " Epoch 36/50\n",
      "263/263 [==============================] - 133s 506ms/step\n",
      "loss= 0.0004575701314024627, recall= 0.9985761642456055, Precision= 0.9976292252540588 \n",
      "\n",
      " Epoch 37/50\n",
      "263/263 [==============================] - 133s 506ms/step\n",
      "loss= 0.00411473773419857, recall= 0.9985443949699402, Precision= 0.9990290999412537 \n",
      "\n",
      " Epoch 38/50\n",
      "263/263 [==============================] - 142s 538ms/step\n",
      "loss= 0.0006441057194024324, recall= 0.99761563539505, Precision= 0.997140109539032 \n",
      "\n",
      " Epoch 39/50\n",
      "263/263 [==============================] - 140s 533ms/step\n",
      "loss= 5.883595804334618e-05, recall= 0.9966650605201721, Precision= 0.9957163333892822 \n",
      "\n",
      " Epoch 40/50\n",
      "263/263 [==============================] - 140s 531ms/step\n",
      "loss= 0.053908709436655045, recall= 0.9980961680412292, Precision= 0.9943100810050964 \n",
      "\n",
      " Epoch 41/50\n",
      "263/263 [==============================] - 140s 533ms/step\n",
      "loss= 0.0033523705787956715, recall= 0.9951597452163696, Precision= 0.994678258895874 \n",
      "\n",
      " Epoch 42/50\n",
      "263/263 [==============================] - 140s 530ms/step\n",
      "loss= 0.002087757922708988, recall= 0.9990499019622803, Precision= 0.9971550703048706 \n",
      "\n",
      " Epoch 43/50\n",
      "263/263 [==============================] - 140s 533ms/step\n",
      "loss= 0.003844769671559334, recall= 0.9976381659507751, Precision= 0.9976381659507751 \n",
      "\n",
      " Epoch 44/50\n",
      "263/263 [==============================] - 139s 529ms/step\n",
      "loss= 0.0008947623427957296, recall= 0.9990552663803101, Precision= 0.9985835552215576 \n",
      "\n",
      " Epoch 45/50\n",
      "263/263 [==============================] - 547s 2s/step\n",
      "loss= 0.012600202113389969, recall= 0.9995240569114685, Precision= 0.9980988502502441 \n",
      "\n",
      " Epoch 46/50\n",
      "263/263 [==============================] - 130s 495ms/step\n",
      "loss= 0.0031666462309658527, recall= 0.9995262622833252, Precision= 0.9985802173614502 \n",
      "\n",
      " Epoch 47/50\n",
      "263/263 [==============================] - 132s 501ms/step\n",
      "loss= 3.972485501435585e-05, recall= 0.9966555237770081, Precision= 0.9957040548324585 \n",
      "\n",
      " Epoch 48/50\n",
      "263/263 [==============================] - 132s 501ms/step\n",
      "loss= 4.5377160859061405e-05, recall= 0.9966698288917542, Precision= 0.9985700845718384 \n",
      "\n",
      " Epoch 49/50\n",
      "263/263 [==============================] - 133s 504ms/step\n",
      "loss= 0.042251408100128174, recall= 0.9985788464546204, Precision= 0.997633695602417 \n",
      "\n",
      " Epoch 50/50\n",
      "263/263 [==============================] - 132s 502ms/step\n",
      "loss= 0.0017200855072587729, recall= 0.9995215535163879, Precision= 0.9990435242652893 \n"
     ]
    }
   ],
   "source": [
    "EPOCHS=50\n",
    "train(train_data,EPOCHS)"
   ]
  },
  {
   "cell_type": "markdown",
   "id": "b6742de7",
   "metadata": {},
   "source": [
    "## 6.Evaluate Model"
   ]
  },
  {
   "cell_type": "markdown",
   "id": "a1b6995b",
   "metadata": {},
   "source": [
    "### 6.1 Import Matrics"
   ]
  },
  {
   "cell_type": "code",
   "execution_count": 26,
   "id": "b9f5dcd9",
   "metadata": {},
   "outputs": [],
   "source": [
    "#import metric calculations\n",
    "from tensorflow.keras.metrics import Precision, Recall"
   ]
  },
  {
   "cell_type": "markdown",
   "id": "1629f0c5",
   "metadata": {},
   "source": [
    "### 6.2 Make Predictions"
   ]
  },
  {
   "cell_type": "code",
   "execution_count": 27,
   "id": "2ce4c82b",
   "metadata": {},
   "outputs": [],
   "source": [
    "#Get a batch of test data(eachh batch contain 16 exemples inputs )\n",
    "test_input, test_val, y_true = test_data.as_numpy_iterator().next()#convert our test data into numpy array"
   ]
  },
  {
   "cell_type": "code",
   "execution_count": 28,
   "id": "b713aa0a",
   "metadata": {},
   "outputs": [
    {
     "data": {
      "text/plain": [
       "array([[1.22159676e-04],\n",
       "       [3.33190724e-06],\n",
       "       [1.00000000e+00],\n",
       "       [1.00000000e+00],\n",
       "       [9.99998808e-01],\n",
       "       [9.99982953e-01],\n",
       "       [2.10594753e-05],\n",
       "       [9.99999642e-01],\n",
       "       [9.99666452e-01],\n",
       "       [7.48872750e-08],\n",
       "       [2.47367154e-07],\n",
       "       [2.13961175e-04],\n",
       "       [1.15328185e-05],\n",
       "       [9.99746740e-01],\n",
       "       [1.05033459e-05],\n",
       "       [9.18949246e-01]], dtype=float32)"
      ]
     },
     "execution_count": 28,
     "metadata": {},
     "output_type": "execute_result"
    }
   ],
   "source": [
    "#Make Predictions\n",
    "y_hat = Model.predict([test_input,test_val])\n",
    "y_hat"
   ]
  },
  {
   "cell_type": "code",
   "execution_count": 31,
   "id": "1fa903e5",
   "metadata": {},
   "outputs": [
    {
     "data": {
      "text/plain": [
       "[0, 0, 0, 0, 1, 1, 0, 1, 0, 1, 0, 1, 0, 0, 0, 0]"
      ]
     },
     "execution_count": 31,
     "metadata": {},
     "output_type": "execute_result"
    }
   ],
   "source": [
    "# Post Processing the results set a threshold \n",
    "[1 if prediction > 0.5 else 0 for prediction in y_hat]"
   ]
  },
  {
   "cell_type": "code",
   "execution_count": 32,
   "id": "877b00a7",
   "metadata": {},
   "outputs": [
    {
     "data": {
      "text/plain": [
       "array([0., 0., 0., 0., 1., 1., 0., 1., 0., 1., 0., 1., 0., 0., 0., 0.],\n",
       "      dtype=float32)"
      ]
     },
     "execution_count": 32,
     "metadata": {},
     "output_type": "execute_result"
    }
   ],
   "source": [
    "y_true"
   ]
  },
  {
   "cell_type": "markdown",
   "id": "842ac2a4",
   "metadata": {},
   "source": [
    "## 6.3 Calculate Metrics"
   ]
  },
  {
   "cell_type": "code",
   "execution_count": 29,
   "id": "deeda4d9",
   "metadata": {},
   "outputs": [
    {
     "data": {
      "text/plain": [
       "1.0"
      ]
     },
     "execution_count": 29,
     "metadata": {},
     "output_type": "execute_result"
    }
   ],
   "source": [
    "#creating a metric object \n",
    "m= Recall()\n",
    "#calculating the recall value\n",
    "m.update_state(y_true,y_hat)\n",
    "#return recall result\n",
    "m.result().numpy()"
   ]
  },
  {
   "cell_type": "code",
   "execution_count": 30,
   "id": "1feedfde",
   "metadata": {},
   "outputs": [
    {
     "data": {
      "text/plain": [
       "1.0"
      ]
     },
     "execution_count": 30,
     "metadata": {},
     "output_type": "execute_result"
    }
   ],
   "source": [
    "m=Precision()\n",
    "m.update_state(y_true,y_hat)\n",
    "m.result().numpy()"
   ]
  },
  {
   "cell_type": "code",
   "execution_count": 31,
   "id": "eb09e76d",
   "metadata": {},
   "outputs": [
    {
     "name": "stdout",
     "output_type": "stream",
     "text": [
      "1.0 0.9978261\n"
     ]
    }
   ],
   "source": [
    "r=Recall()\n",
    "p=Precision()\n",
    "for test_input,test_val,y_true in test_data.as_numpy_iterator():\n",
    "    yhat=Model.predict([test_input,test_val])\n",
    "    r.update_state(y_true,yhat)\n",
    "    p.update_state(y_true,yhat)\n",
    "    \n",
    "print( r.result().numpy(),   p.result().numpy())\n"
   ]
  },
  {
   "cell_type": "markdown",
   "id": "a5f2fa9a",
   "metadata": {},
   "source": [
    "### Note:\n",
    "here we are evaluating our model only on a single Batch the best practice is to evaluate it over the entire test samples"
   ]
  },
  {
   "cell_type": "markdown",
   "id": "bf8e981f",
   "metadata": {},
   "source": [
    "## 6.4 Visualize Results"
   ]
  },
  {
   "cell_type": "code",
   "execution_count": 34,
   "id": "92a4e29f",
   "metadata": {},
   "outputs": [
    {
     "data": {
      "image/png": "[encoded data removed]",
      "text/plain": [
       "<Figure size 1800x800 with 2 Axes>"
      ]
     },
     "metadata": {},
     "output_type": "display_data"
    }
   ],
   "source": [
    "#compare results for differents samples in our batch\n",
    "\n",
    "#set plot size\n",
    "plt.figure(figsize=(18,8))\n",
    "#set first subplot\n",
    "plt.subplot(1,2,1)\n",
    "plt.imshow(test_input[0])\n",
    "plt.subplot(1,2,2)\n",
    "plt.imshow(test_val[0])\n",
    "plt.show()"
   ]
  },
  {
   "cell_type": "code",
   "execution_count": 33,
   "id": "5f770354",
   "metadata": {},
   "outputs": [
    {
     "data": {
      "text/plain": [
       "1.0"
      ]
     },
     "execution_count": 33,
     "metadata": {},
     "output_type": "execute_result"
    }
   ],
   "source": [
    "y_true[0]\n",
    "#the two people do not match"
   ]
  },
  {
   "cell_type": "markdown",
   "id": "96c4331d",
   "metadata": {},
   "source": [
    "### 7 Save the model"
   ]
  },
  {
   "cell_type": "code",
   "execution_count": 35,
   "id": "31788c2c",
   "metadata": {},
   "outputs": [
    {
     "name": "stdout",
     "output_type": "stream",
     "text": [
      "WARNING:tensorflow:Compiled the loaded model, but the compiled metrics have yet to be built. `model.compile_metrics` will be empty until you train or evaluate the model.\n"
     ]
    }
   ],
   "source": [
    "#save the weights\n",
    "Model.save('siamesemodelV2.h5')"
   ]
  },
  {
   "cell_type": "markdown",
   "id": "8e14b4aa",
   "metadata": {},
   "source": [
    "#### Notes: it's important to load up the custom object also"
   ]
  },
  {
   "cell_type": "code",
   "execution_count": 40,
   "id": "1f31c16d",
   "metadata": {},
   "outputs": [
    {
     "name": "stdout",
     "output_type": "stream",
     "text": [
      "WARNING:tensorflow:No training configuration found in the save file, so the model was *not* compiled. Compile it manually.\n"
     ]
    }
   ],
   "source": [
    "#reload model \n",
    "model2=tf.keras.models.load_model('siamesemodelV2.h5', \n",
    "                                 custom_objects={'L1Dist':  L1Dist,'BinaryCrossentropy':tf.keras.losses.BinaryCrossentropy})\n"
   ]
  },
  {
   "cell_type": "markdown",
   "id": "ed8048ad",
   "metadata": {},
   "source": [
    "## 8.Real Time Test"
   ]
  },
  {
   "cell_type": "markdown",
   "id": "64025094",
   "metadata": {},
   "source": [
    "## 8.1 Verification Function"
   ]
  },
  {
   "cell_type": "code",
   "execution_count": 44,
   "id": "86672040",
   "metadata": {},
   "outputs": [],
   "source": [
    "\n",
    "def verify(model, detection_threshold,  verification_threshold):\n",
    "    \n",
    "    #build a result array\n",
    "    results=[]\n",
    "    \n",
    "    \n",
    "    #looping through every single image inside the verification image folder\n",
    "    for image in os.listdir(os.path.join('application_data','verification_images')):\n",
    "        #grab an input img from the webcam and store it in the input folder and call it input_image.jpg        \n",
    "        input_img = preprocess(os.path.join('application_data','input_image','input_image.jpg'))\n",
    "        validation_img = preprocess(os.path.join('application_data','verification_images',image))\n",
    "        \n",
    "        #make pred\n",
    "        #wrapping data into list (encapsuler data) because we've only got a single sample(1 seul echantillon)\n",
    "        result = model2.predict(list(np.expand_dims([input_img,validation_img],axis=1)))\n",
    "        results.append(result)\n",
    "        \n",
    "        \n",
    "    #detection threshold: Metrics above which a prediction is considered positive (matches)\n",
    "    \n",
    "    #how many positive prediction are actually passing the detection thres\n",
    "    detection = np.sum(np.array(results)> detection_threshold) \n",
    "        \n",
    "        \n",
    "    # verification threshold:the proportion of positve pred /total positive samples\n",
    "    \n",
    "    verification=detection / len(os.listdir(os.path.join('application_data','verification_images')))\n",
    "    verified=verification > verification_threshold #this return true or false\n",
    "        \n",
    "    return results,verified"
   ]
  },
  {
   "cell_type": "markdown",
   "id": "dadce120",
   "metadata": {},
   "source": [
    "## 8.2 OpenCV Real Time Verification"
   ]
  },
  {
   "cell_type": "code",
   "execution_count": null,
   "id": "765c00c5",
   "metadata": {},
   "outputs": [
    {
     "name": "stdout",
     "output_type": "stream",
     "text": [
      "False\n",
      "False\n",
      "True\n",
      "False\n",
      "True\n",
      "True\n",
      "True\n",
      "True\n",
      "True\n",
      "False\n",
      "False\n",
      "False\n",
      "False\n",
      "False\n",
      "False\n",
      "False\n"
     ]
    }
   ],
   "source": [
    "cap= cv2.VideoCapture(0)\n",
    "while cap.isOpened():\n",
    "    ret, frame= cap.read()\n",
    "    frame=frame[120:120+250,200:200+250,:]\n",
    "\n",
    "    cv2.imshow(\"Verification\",frame)\n",
    "    \n",
    "   #verification trigvvqger(declenchement)\n",
    "    if cv2.waitKey(10)& 0xff==ord('v'):\n",
    "        #save the input image to application_data/input_image folder\n",
    "        cv2.imwrite(os.path.join('application_data','input_image','input_image.jpg'),frame)\n",
    "        #verification function\n",
    "        results,verified=verify(model,0.5,0.8)\n",
    "        print(verified)\n",
    "    if cv2.waitKey(10)& 0xff==ord('q'):\n",
    "        break\n",
    "        \n",
    "        \n",
    "        \n",
    "cap.release()\n",
    "cv2.destroyAllWindows()"
   ]
  },
  {
   "cell_type": "code",
   "execution_count": 34,
   "id": "2f3e693b",
   "metadata": {},
   "outputs": [
    {
     "data": {
      "text/plain": [
       "62"
      ]
     },
     "execution_count": 34,
     "metadata": {},
     "output_type": "execute_result"
    }
   ],
   "source": [
    "np.sum(np.squeeze(results)>0.9) #detection thre"
   ]
  },
  {
   "cell_type": "code",
   "execution_count": 38,
   "id": "f8c59eba",
   "metadata": {},
   "outputs": [],
   "source": []
  },
  {
   "cell_type": "code",
   "execution_count": 30,
   "id": "0ad7d1c6",
   "metadata": {},
   "outputs": [
    {
     "data": {
      "text/plain": [
       "0.8873239436619719"
      ]
     },
     "execution_count": 30,
     "metadata": {},
     "output_type": "execute_result"
    }
   ],
   "source": [
    "63/71 #verification"
   ]
  },
  {
   "cell_type": "code",
   "execution_count": null,
   "id": "45fff519",
   "metadata": {},
   "outputs": [],
   "source": []
  },
  {
   "cell_type": "code",
   "execution_count": null,
   "id": "522492b3",
   "metadata": {},
   "outputs": [],
   "source": []
  },
  {
   "cell_type": "code",
   "execution_count": null,
   "id": "3c6b4d4a",
   "metadata": {},
   "outputs": [],
   "source": []
  },
  {
   "cell_type": "code",
   "execution_count": null,
   "id": "b0ae01fb",
   "metadata": {},
   "outputs": [],
   "source": []
  },
  {
   "cell_type": "code",
   "execution_count": null,
   "id": "3a141b58",
   "metadata": {},
   "outputs": [],
   "source": []
  },
  {
   "cell_type": "code",
   "execution_count": null,
   "id": "3ea11c14",
   "metadata": {},
   "outputs": [],
   "source": []
  }
 ],
 "metadata": {
  "kernelspec": {
   "display_name": "Python 3 (ipykernel)",
   "language": "python",
   "name": "python3"
  },
  "language_info": {
   "codemirror_mode": {
    "name": "ipython",
    "version": 3
   },
   "file_extension": ".py",
   "mimetype": "text/x-python",
   "name": "python",
   "nbconvert_exporter": "python",
   "pygments_lexer": "ipython3",
   "version": "3.9.12"
  }
 },
 "nbformat": 4,
 "nbformat_minor": 5
}
